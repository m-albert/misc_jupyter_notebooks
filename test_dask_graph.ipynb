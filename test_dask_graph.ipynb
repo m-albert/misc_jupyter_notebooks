{
 "cells": [
  {
   "cell_type": "code",
   "execution_count": 1,
   "metadata": {},
   "outputs": [],
   "source": [
    "import distributed\n",
    "import dask\n",
    "\n",
    "def produce_dask_graph_for_filename(filename):\n",
    "\n",
    "    graph = dict()\n",
    "\n",
    "    # this task reads the data from the file\n",
    "    graph['data'] = (lambda x: x, filename)\n",
    "\n",
    "    # this task processes the data\n",
    "    graph['result'] = (lambda x: x[-1], 'data')\n",
    "\n",
    "    return graph\n",
    "\n",
    "def compute_result(filename):\n",
    "\n",
    "    # create the filename specific graph\n",
    "    graph = produce_dask_graph_for_filename(filename)\n",
    "\n",
    "    # perform the computation\n",
    "    result = dask.get(graph, 'result')\n",
    "\n",
    "    return result\n",
    "\n",
    "filename_list = ['file_%s' %i for i in range(5)]\n",
    "\n",
    "futures = [dask.delayed(compute_result)(filename) for filename in filename_list]\n",
    "\n",
    "results = dask.compute(futures)[0]"
   ]
  },
  {
   "cell_type": "code",
   "execution_count": 2,
   "metadata": {},
   "outputs": [
    {
     "data": {
      "text/plain": [
       "(['0', '1', '2', '3', '4'],)"
      ]
     },
     "execution_count": 2,
     "metadata": {},
     "output_type": "execute_result"
    }
   ],
   "source": [
    "results"
   ]
  }
 ],
 "metadata": {
  "kernelspec": {
   "display_name": "Python 3",
   "language": "python",
   "name": "python3"
  },
  "language_info": {
   "codemirror_mode": {
    "name": "ipython",
    "version": 3
   },
   "file_extension": ".py",
   "mimetype": "text/x-python",
   "name": "python",
   "nbconvert_exporter": "python",
   "pygments_lexer": "ipython3",
   "version": "3.6.6"
  }
 },
 "nbformat": 4,
 "nbformat_minor": 2
}
